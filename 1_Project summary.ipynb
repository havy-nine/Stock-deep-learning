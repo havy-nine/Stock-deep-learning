{
 "cells": [
  {
   "cell_type": "markdown",
   "metadata": {},
   "source": [
    "프로젝트 주제 선정 이유"
   ]
  },
  {
   "cell_type": "markdown",
   "metadata": {},
   "source": [
    "요즘 20대의 트렌드 중 하나가 주식인데 주식에 대한 데이터를 딥러닝하여 그 주식이 바뀌어갈 동향이 어떻게 될지 예측할 수 없을까? 라는 생각을 하게되었고, 요즘 AI로 상당히 뜨고 있는 구글의 주식에 대한 데이터를 한번 딥러닝 해보기로 했습니다. 물론 주식이 워난 불분명한 것이라 높은 정확도가 나오지 않을 것이라 생각하기는 했지만 그래도 다른 외부적 요인을 다 떠났을 때 하루의 주식의 등락, 하락만을 고려했을 때 어느 정도 관련이 있을 것 같아 이 주제를 선택했습니다.  "
   ]
  },
  {
   "cell_type": "markdown",
   "metadata": {},
   "source": [
    "과제 수행후 느낀 점"
   ]
  },
  {
   "cell_type": "markdown",
   "metadata": {},
   "source": [
    "직접 구글 주식에 있는 표를 크롤링하여 csv파일로 저장 한 후 필요에 의해 시가와 종가의 차이, 최고가와 최저가를 얻기 위해 데이터를 가공했습니다. 이 데이터를 이용해 만약 주식이 올랐으면 1, 주식이 내려갔으면 0 으로 Y값을 세팅하고 딥러닝을 진행해 보았습니다. 사실 딥러닝으로 넘어 가서 몇 가지 방법으로 딥러닝을 진행해 보니, 얼토당토 안한 결과가 나와서 당황스럽기도 하였지만, 애초에 저 요인 들과 거래량 만으로 주식을 예측하기에는 너무 불분명한 요소가 많다는 것을 깨달았습니다. \n",
    "그래서 차라리  딥러닝의 학습을 이용해 뒷부분의 결과를 예측하는 코딩을 해보자고 생각하였고 관련 주제를 찾아보고 공부해 본 후 역변환 함수를 이용해 코딩 해봤습니다. \n",
    "\n",
    "과제를 수행한 후 느낀 점은 딥 러닝 파트에 들어와서 조금씩 놓치고 있었던 파트들을 다시 한번 리마인드 할 수 있어서 좋았고, 딥 러닝에 대한 주제를 선택할 때는 아직 외부 변인이 많이 없는 데이터를 선택해야 한다는 것을 알게 되었습니다.. 컴퓨터 쪽에 흥미가 있었는데 이 과제를 통해 딥러닝 분야에 흥미가 생겼고, 나중에 딥러닝을 이용하여 날씨 예측 프로그램이나 유튜브 알고리즘 예측 같은 코딩을 해보며 연습해보고 싶습니다.  "
   ]
  },
  {
   "cell_type": "code",
   "execution_count": null,
   "metadata": {},
   "outputs": [],
   "source": []
  }
 ],
 "metadata": {
  "kernelspec": {
   "display_name": "Python 3",
   "language": "python",
   "name": "python3"
  },
  "language_info": {
   "codemirror_mode": {
    "name": "ipython",
    "version": 3
   },
   "file_extension": ".py",
   "mimetype": "text/x-python",
   "name": "python",
   "nbconvert_exporter": "python",
   "pygments_lexer": "ipython3",
   "version": "3.7.9"
  }
 },
 "nbformat": 4,
 "nbformat_minor": 4
}
